{
 "cells": [
  {
   "cell_type": "code",
   "execution_count": 1,
   "metadata": {},
   "outputs": [],
   "source": [
    "import numpy as np \n",
    "import pandas as pd \n",
    "import matplotlib.pyplot as plt\n",
    "%matplotlib inline \n",
    "from sklearn.model_selection import train_test_split \n",
    "from sklearn import svm"
   ]
  },
  {
   "cell_type": "code",
   "execution_count": 2,
   "metadata": {},
   "outputs": [],
   "source": [
    "train_df = pd.read_csv(\"train_titanic.csv\")\n",
    "test_df = pd.read_csv(\"test_titanic.csv\")\n",
    "\n",
    "combine = [train_df, test_df]"
   ]
  },
  {
   "cell_type": "code",
   "execution_count": 3,
   "metadata": {},
   "outputs": [],
   "source": [
    "data, data2 = train_test_split(train_df, test_size = 0.25)"
   ]
  },
  {
   "cell_type": "code",
   "execution_count": 4,
   "metadata": {},
   "outputs": [],
   "source": [
    "data = data.drop(['PassengerId','Name','SibSp','Parch','Ticket','Fare','Cabin','Embarked'], axis=1)"
   ]
  },
  {
   "cell_type": "code",
   "execution_count": 5,
   "metadata": {},
   "outputs": [],
   "source": [
    "data['Sex'] = data['Sex'].map({'female':1, 'male':0})"
   ]
  },
  {
   "cell_type": "code",
   "execution_count": 6,
   "metadata": {},
   "outputs": [],
   "source": [
    "#data.head()"
   ]
  },
  {
   "cell_type": "code",
   "execution_count": 7,
   "metadata": {},
   "outputs": [
    {
     "data": {
      "text/plain": [
       "Survived     0.387725\n",
       "Pclass       2.284431\n",
       "Sex          0.350299\n",
       "Age         29.852972\n",
       "dtype: float64"
      ]
     },
     "execution_count": 7,
     "metadata": {},
     "output_type": "execute_result"
    }
   ],
   "source": [
    "data.mean()"
   ]
  },
  {
   "cell_type": "code",
   "execution_count": 8,
   "metadata": {},
   "outputs": [],
   "source": [
    "data=data.apply(lambda x: x.fillna(x.mean()),axis=0)"
   ]
  },
  {
   "cell_type": "code",
   "execution_count": 9,
   "metadata": {},
   "outputs": [
    {
     "data": {
      "text/html": [
       "<div>\n",
       "<style scoped>\n",
       "    .dataframe tbody tr th:only-of-type {\n",
       "        vertical-align: middle;\n",
       "    }\n",
       "\n",
       "    .dataframe tbody tr th {\n",
       "        vertical-align: top;\n",
       "    }\n",
       "\n",
       "    .dataframe thead th {\n",
       "        text-align: right;\n",
       "    }\n",
       "</style>\n",
       "<table border=\"1\" class=\"dataframe\">\n",
       "  <thead>\n",
       "    <tr style=\"text-align: right;\">\n",
       "      <th></th>\n",
       "      <th>Survived</th>\n",
       "      <th>Pclass</th>\n",
       "      <th>Sex</th>\n",
       "      <th>Age</th>\n",
       "    </tr>\n",
       "  </thead>\n",
       "  <tbody>\n",
       "    <tr>\n",
       "      <th>797</th>\n",
       "      <td>1</td>\n",
       "      <td>3</td>\n",
       "      <td>1</td>\n",
       "      <td>31.000000</td>\n",
       "    </tr>\n",
       "    <tr>\n",
       "      <th>856</th>\n",
       "      <td>1</td>\n",
       "      <td>1</td>\n",
       "      <td>1</td>\n",
       "      <td>45.000000</td>\n",
       "    </tr>\n",
       "    <tr>\n",
       "      <th>540</th>\n",
       "      <td>1</td>\n",
       "      <td>1</td>\n",
       "      <td>1</td>\n",
       "      <td>36.000000</td>\n",
       "    </tr>\n",
       "    <tr>\n",
       "      <th>419</th>\n",
       "      <td>0</td>\n",
       "      <td>3</td>\n",
       "      <td>1</td>\n",
       "      <td>10.000000</td>\n",
       "    </tr>\n",
       "    <tr>\n",
       "      <th>388</th>\n",
       "      <td>0</td>\n",
       "      <td>3</td>\n",
       "      <td>0</td>\n",
       "      <td>29.852972</td>\n",
       "    </tr>\n",
       "  </tbody>\n",
       "</table>\n",
       "</div>"
      ],
      "text/plain": [
       "     Survived  Pclass  Sex        Age\n",
       "797         1       3    1  31.000000\n",
       "856         1       1    1  45.000000\n",
       "540         1       1    1  36.000000\n",
       "419         0       3    1  10.000000\n",
       "388         0       3    0  29.852972"
      ]
     },
     "execution_count": 9,
     "metadata": {},
     "output_type": "execute_result"
    }
   ],
   "source": [
    "data.head()"
   ]
  },
  {
   "cell_type": "code",
   "execution_count": 10,
   "metadata": {},
   "outputs": [
    {
     "data": {
      "text/plain": [
       "0.8817365269461078"
      ]
     },
     "execution_count": 10,
     "metadata": {},
     "output_type": "execute_result"
    }
   ],
   "source": [
    "svc = svm.SVC(C=100, gamma=10, probability=True)  \n",
    "svc.fit(data[['Pclass','Sex','Age']], data['Survived'])  \n",
    "\n",
    "svc.score(data[['Pclass','Sex','Age']], data['Survived'])"
   ]
  },
  {
   "cell_type": "code",
   "execution_count": 11,
   "metadata": {},
   "outputs": [],
   "source": [
    "data2 = data2.drop(['PassengerId','Name','SibSp','Parch','Ticket','Fare','Cabin','Embarked'], axis=1)"
   ]
  },
  {
   "cell_type": "code",
   "execution_count": 12,
   "metadata": {},
   "outputs": [],
   "source": [
    "data2['Sex'] = data2['Sex'].map({'female':1, 'male':0})"
   ]
  },
  {
   "cell_type": "code",
   "execution_count": 13,
   "metadata": {},
   "outputs": [
    {
     "data": {
      "text/html": [
       "<div>\n",
       "<style scoped>\n",
       "    .dataframe tbody tr th:only-of-type {\n",
       "        vertical-align: middle;\n",
       "    }\n",
       "\n",
       "    .dataframe tbody tr th {\n",
       "        vertical-align: top;\n",
       "    }\n",
       "\n",
       "    .dataframe thead th {\n",
       "        text-align: right;\n",
       "    }\n",
       "</style>\n",
       "<table border=\"1\" class=\"dataframe\">\n",
       "  <thead>\n",
       "    <tr style=\"text-align: right;\">\n",
       "      <th></th>\n",
       "      <th>Survived</th>\n",
       "      <th>Pclass</th>\n",
       "      <th>Sex</th>\n",
       "      <th>Age</th>\n",
       "    </tr>\n",
       "  </thead>\n",
       "  <tbody>\n",
       "    <tr>\n",
       "      <th>471</th>\n",
       "      <td>0</td>\n",
       "      <td>3</td>\n",
       "      <td>0</td>\n",
       "      <td>38.0</td>\n",
       "    </tr>\n",
       "    <tr>\n",
       "      <th>229</th>\n",
       "      <td>0</td>\n",
       "      <td>3</td>\n",
       "      <td>1</td>\n",
       "      <td>NaN</td>\n",
       "    </tr>\n",
       "    <tr>\n",
       "      <th>526</th>\n",
       "      <td>1</td>\n",
       "      <td>2</td>\n",
       "      <td>1</td>\n",
       "      <td>50.0</td>\n",
       "    </tr>\n",
       "    <tr>\n",
       "      <th>788</th>\n",
       "      <td>1</td>\n",
       "      <td>3</td>\n",
       "      <td>0</td>\n",
       "      <td>1.0</td>\n",
       "    </tr>\n",
       "    <tr>\n",
       "      <th>312</th>\n",
       "      <td>0</td>\n",
       "      <td>2</td>\n",
       "      <td>1</td>\n",
       "      <td>26.0</td>\n",
       "    </tr>\n",
       "  </tbody>\n",
       "</table>\n",
       "</div>"
      ],
      "text/plain": [
       "     Survived  Pclass  Sex   Age\n",
       "471         0       3    0  38.0\n",
       "229         0       3    1   NaN\n",
       "526         1       2    1  50.0\n",
       "788         1       3    0   1.0\n",
       "312         0       2    1  26.0"
      ]
     },
     "execution_count": 13,
     "metadata": {},
     "output_type": "execute_result"
    }
   ],
   "source": [
    "data2.head()"
   ]
  },
  {
   "cell_type": "code",
   "execution_count": 14,
   "metadata": {},
   "outputs": [
    {
     "data": {
      "text/plain": [
       "Survived     0.372197\n",
       "Pclass       2.381166\n",
       "Sex          0.358744\n",
       "Age         29.239274\n",
       "dtype: float64"
      ]
     },
     "execution_count": 14,
     "metadata": {},
     "output_type": "execute_result"
    }
   ],
   "source": [
    "data2.mean()"
   ]
  },
  {
   "cell_type": "code",
   "execution_count": 15,
   "metadata": {},
   "outputs": [],
   "source": [
    "data2=data2.apply(lambda x: x.fillna(x.mean()),axis=0)"
   ]
  },
  {
   "cell_type": "code",
   "execution_count": 16,
   "metadata": {},
   "outputs": [
    {
     "data": {
      "text/html": [
       "<div>\n",
       "<style scoped>\n",
       "    .dataframe tbody tr th:only-of-type {\n",
       "        vertical-align: middle;\n",
       "    }\n",
       "\n",
       "    .dataframe tbody tr th {\n",
       "        vertical-align: top;\n",
       "    }\n",
       "\n",
       "    .dataframe thead th {\n",
       "        text-align: right;\n",
       "    }\n",
       "</style>\n",
       "<table border=\"1\" class=\"dataframe\">\n",
       "  <thead>\n",
       "    <tr style=\"text-align: right;\">\n",
       "      <th></th>\n",
       "      <th>Survived</th>\n",
       "      <th>Pclass</th>\n",
       "      <th>Sex</th>\n",
       "      <th>Age</th>\n",
       "    </tr>\n",
       "  </thead>\n",
       "  <tbody>\n",
       "    <tr>\n",
       "      <th>471</th>\n",
       "      <td>0</td>\n",
       "      <td>3</td>\n",
       "      <td>0</td>\n",
       "      <td>38.000000</td>\n",
       "    </tr>\n",
       "    <tr>\n",
       "      <th>229</th>\n",
       "      <td>0</td>\n",
       "      <td>3</td>\n",
       "      <td>1</td>\n",
       "      <td>29.239274</td>\n",
       "    </tr>\n",
       "    <tr>\n",
       "      <th>526</th>\n",
       "      <td>1</td>\n",
       "      <td>2</td>\n",
       "      <td>1</td>\n",
       "      <td>50.000000</td>\n",
       "    </tr>\n",
       "    <tr>\n",
       "      <th>788</th>\n",
       "      <td>1</td>\n",
       "      <td>3</td>\n",
       "      <td>0</td>\n",
       "      <td>1.000000</td>\n",
       "    </tr>\n",
       "    <tr>\n",
       "      <th>312</th>\n",
       "      <td>0</td>\n",
       "      <td>2</td>\n",
       "      <td>1</td>\n",
       "      <td>26.000000</td>\n",
       "    </tr>\n",
       "  </tbody>\n",
       "</table>\n",
       "</div>"
      ],
      "text/plain": [
       "     Survived  Pclass  Sex        Age\n",
       "471         0       3    0  38.000000\n",
       "229         0       3    1  29.239274\n",
       "526         1       2    1  50.000000\n",
       "788         1       3    0   1.000000\n",
       "312         0       2    1  26.000000"
      ]
     },
     "execution_count": 16,
     "metadata": {},
     "output_type": "execute_result"
    }
   ],
   "source": [
    "data2.head()"
   ]
  },
  {
   "cell_type": "code",
   "execution_count": 17,
   "metadata": {},
   "outputs": [
    {
     "data": {
      "text/plain": [
       "0.7847533632286996"
      ]
     },
     "execution_count": 17,
     "metadata": {},
     "output_type": "execute_result"
    }
   ],
   "source": [
    "svc.score(data2[['Pclass','Sex','Age']], data2['Survived'])"
   ]
  },
  {
   "cell_type": "code",
   "execution_count": 18,
   "metadata": {},
   "outputs": [
    {
     "name": "stderr",
     "output_type": "stream",
     "text": [
      "C:\\Users\\Personal\\Anaconda3\\lib\\site-packages\\sklearn\\svm\\base.py:931: ConvergenceWarning: Liblinear failed to converge, increase the number of iterations.\n",
      "  \"the number of iterations.\", ConvergenceWarning)\n",
      "C:\\Users\\Personal\\Anaconda3\\lib\\site-packages\\sklearn\\svm\\base.py:931: ConvergenceWarning: Liblinear failed to converge, increase the number of iterations.\n",
      "  \"the number of iterations.\", ConvergenceWarning)\n",
      "C:\\Users\\Personal\\Anaconda3\\lib\\site-packages\\sklearn\\svm\\base.py:931: ConvergenceWarning: Liblinear failed to converge, increase the number of iterations.\n",
      "  \"the number of iterations.\", ConvergenceWarning)\n",
      "C:\\Users\\Personal\\Anaconda3\\lib\\site-packages\\sklearn\\svm\\base.py:931: ConvergenceWarning: Liblinear failed to converge, increase the number of iterations.\n",
      "  \"the number of iterations.\", ConvergenceWarning)\n",
      "C:\\Users\\Personal\\Anaconda3\\lib\\site-packages\\sklearn\\svm\\base.py:931: ConvergenceWarning: Liblinear failed to converge, increase the number of iterations.\n",
      "  \"the number of iterations.\", ConvergenceWarning)\n",
      "C:\\Users\\Personal\\Anaconda3\\lib\\site-packages\\sklearn\\svm\\base.py:931: ConvergenceWarning: Liblinear failed to converge, increase the number of iterations.\n",
      "  \"the number of iterations.\", ConvergenceWarning)\n",
      "C:\\Users\\Personal\\Anaconda3\\lib\\site-packages\\sklearn\\svm\\base.py:931: ConvergenceWarning: Liblinear failed to converge, increase the number of iterations.\n",
      "  \"the number of iterations.\", ConvergenceWarning)\n",
      "C:\\Users\\Personal\\Anaconda3\\lib\\site-packages\\sklearn\\svm\\base.py:931: ConvergenceWarning: Liblinear failed to converge, increase the number of iterations.\n",
      "  \"the number of iterations.\", ConvergenceWarning)\n",
      "C:\\Users\\Personal\\Anaconda3\\lib\\site-packages\\sklearn\\svm\\base.py:931: ConvergenceWarning: Liblinear failed to converge, increase the number of iterations.\n",
      "  \"the number of iterations.\", ConvergenceWarning)\n",
      "C:\\Users\\Personal\\Anaconda3\\lib\\site-packages\\sklearn\\svm\\base.py:931: ConvergenceWarning: Liblinear failed to converge, increase the number of iterations.\n",
      "  \"the number of iterations.\", ConvergenceWarning)\n",
      "C:\\Users\\Personal\\Anaconda3\\lib\\site-packages\\sklearn\\svm\\base.py:931: ConvergenceWarning: Liblinear failed to converge, increase the number of iterations.\n",
      "  \"the number of iterations.\", ConvergenceWarning)\n",
      "C:\\Users\\Personal\\Anaconda3\\lib\\site-packages\\sklearn\\svm\\base.py:931: ConvergenceWarning: Liblinear failed to converge, increase the number of iterations.\n",
      "  \"the number of iterations.\", ConvergenceWarning)\n",
      "C:\\Users\\Personal\\Anaconda3\\lib\\site-packages\\sklearn\\svm\\base.py:931: ConvergenceWarning: Liblinear failed to converge, increase the number of iterations.\n",
      "  \"the number of iterations.\", ConvergenceWarning)\n",
      "C:\\Users\\Personal\\Anaconda3\\lib\\site-packages\\sklearn\\svm\\base.py:931: ConvergenceWarning: Liblinear failed to converge, increase the number of iterations.\n",
      "  \"the number of iterations.\", ConvergenceWarning)\n",
      "C:\\Users\\Personal\\Anaconda3\\lib\\site-packages\\sklearn\\svm\\base.py:931: ConvergenceWarning: Liblinear failed to converge, increase the number of iterations.\n",
      "  \"the number of iterations.\", ConvergenceWarning)\n",
      "C:\\Users\\Personal\\Anaconda3\\lib\\site-packages\\sklearn\\svm\\base.py:931: ConvergenceWarning: Liblinear failed to converge, increase the number of iterations.\n",
      "  \"the number of iterations.\", ConvergenceWarning)\n",
      "C:\\Users\\Personal\\Anaconda3\\lib\\site-packages\\sklearn\\svm\\base.py:931: ConvergenceWarning: Liblinear failed to converge, increase the number of iterations.\n",
      "  \"the number of iterations.\", ConvergenceWarning)\n",
      "C:\\Users\\Personal\\Anaconda3\\lib\\site-packages\\sklearn\\svm\\base.py:931: ConvergenceWarning: Liblinear failed to converge, increase the number of iterations.\n",
      "  \"the number of iterations.\", ConvergenceWarning)\n",
      "C:\\Users\\Personal\\Anaconda3\\lib\\site-packages\\sklearn\\svm\\base.py:931: ConvergenceWarning: Liblinear failed to converge, increase the number of iterations.\n",
      "  \"the number of iterations.\", ConvergenceWarning)\n",
      "C:\\Users\\Personal\\Anaconda3\\lib\\site-packages\\sklearn\\svm\\base.py:931: ConvergenceWarning: Liblinear failed to converge, increase the number of iterations.\n",
      "  \"the number of iterations.\", ConvergenceWarning)\n",
      "C:\\Users\\Personal\\Anaconda3\\lib\\site-packages\\sklearn\\svm\\base.py:931: ConvergenceWarning: Liblinear failed to converge, increase the number of iterations.\n",
      "  \"the number of iterations.\", ConvergenceWarning)\n",
      "C:\\Users\\Personal\\Anaconda3\\lib\\site-packages\\sklearn\\svm\\base.py:931: ConvergenceWarning: Liblinear failed to converge, increase the number of iterations.\n",
      "  \"the number of iterations.\", ConvergenceWarning)\n",
      "C:\\Users\\Personal\\Anaconda3\\lib\\site-packages\\sklearn\\svm\\base.py:931: ConvergenceWarning: Liblinear failed to converge, increase the number of iterations.\n",
      "  \"the number of iterations.\", ConvergenceWarning)\n",
      "C:\\Users\\Personal\\Anaconda3\\lib\\site-packages\\sklearn\\svm\\base.py:931: ConvergenceWarning: Liblinear failed to converge, increase the number of iterations.\n",
      "  \"the number of iterations.\", ConvergenceWarning)\n",
      "C:\\Users\\Personal\\Anaconda3\\lib\\site-packages\\sklearn\\svm\\base.py:931: ConvergenceWarning: Liblinear failed to converge, increase the number of iterations.\n",
      "  \"the number of iterations.\", ConvergenceWarning)\n",
      "C:\\Users\\Personal\\Anaconda3\\lib\\site-packages\\sklearn\\svm\\base.py:931: ConvergenceWarning: Liblinear failed to converge, increase the number of iterations.\n",
      "  \"the number of iterations.\", ConvergenceWarning)\n",
      "C:\\Users\\Personal\\Anaconda3\\lib\\site-packages\\sklearn\\svm\\base.py:931: ConvergenceWarning: Liblinear failed to converge, increase the number of iterations.\n",
      "  \"the number of iterations.\", ConvergenceWarning)\n",
      "C:\\Users\\Personal\\Anaconda3\\lib\\site-packages\\sklearn\\svm\\base.py:931: ConvergenceWarning: Liblinear failed to converge, increase the number of iterations.\n",
      "  \"the number of iterations.\", ConvergenceWarning)\n",
      "C:\\Users\\Personal\\Anaconda3\\lib\\site-packages\\sklearn\\svm\\base.py:931: ConvergenceWarning: Liblinear failed to converge, increase the number of iterations.\n",
      "  \"the number of iterations.\", ConvergenceWarning)\n",
      "C:\\Users\\Personal\\Anaconda3\\lib\\site-packages\\sklearn\\svm\\base.py:931: ConvergenceWarning: Liblinear failed to converge, increase the number of iterations.\n",
      "  \"the number of iterations.\", ConvergenceWarning)\n",
      "C:\\Users\\Personal\\Anaconda3\\lib\\site-packages\\sklearn\\svm\\base.py:931: ConvergenceWarning: Liblinear failed to converge, increase the number of iterations.\n",
      "  \"the number of iterations.\", ConvergenceWarning)\n",
      "C:\\Users\\Personal\\Anaconda3\\lib\\site-packages\\sklearn\\svm\\base.py:931: ConvergenceWarning: Liblinear failed to converge, increase the number of iterations.\n",
      "  \"the number of iterations.\", ConvergenceWarning)\n",
      "C:\\Users\\Personal\\Anaconda3\\lib\\site-packages\\sklearn\\svm\\base.py:931: ConvergenceWarning: Liblinear failed to converge, increase the number of iterations.\n",
      "  \"the number of iterations.\", ConvergenceWarning)\n",
      "C:\\Users\\Personal\\Anaconda3\\lib\\site-packages\\sklearn\\svm\\base.py:931: ConvergenceWarning: Liblinear failed to converge, increase the number of iterations.\n",
      "  \"the number of iterations.\", ConvergenceWarning)\n",
      "C:\\Users\\Personal\\Anaconda3\\lib\\site-packages\\sklearn\\svm\\base.py:931: ConvergenceWarning: Liblinear failed to converge, increase the number of iterations.\n",
      "  \"the number of iterations.\", ConvergenceWarning)\n",
      "C:\\Users\\Personal\\Anaconda3\\lib\\site-packages\\sklearn\\svm\\base.py:931: ConvergenceWarning: Liblinear failed to converge, increase the number of iterations.\n",
      "  \"the number of iterations.\", ConvergenceWarning)\n",
      "C:\\Users\\Personal\\Anaconda3\\lib\\site-packages\\sklearn\\svm\\base.py:931: ConvergenceWarning: Liblinear failed to converge, increase the number of iterations.\n",
      "  \"the number of iterations.\", ConvergenceWarning)\n",
      "C:\\Users\\Personal\\Anaconda3\\lib\\site-packages\\sklearn\\svm\\base.py:931: ConvergenceWarning: Liblinear failed to converge, increase the number of iterations.\n",
      "  \"the number of iterations.\", ConvergenceWarning)\n",
      "C:\\Users\\Personal\\Anaconda3\\lib\\site-packages\\sklearn\\svm\\base.py:931: ConvergenceWarning: Liblinear failed to converge, increase the number of iterations.\n",
      "  \"the number of iterations.\", ConvergenceWarning)\n",
      "C:\\Users\\Personal\\Anaconda3\\lib\\site-packages\\sklearn\\svm\\base.py:931: ConvergenceWarning: Liblinear failed to converge, increase the number of iterations.\n",
      "  \"the number of iterations.\", ConvergenceWarning)\n",
      "C:\\Users\\Personal\\Anaconda3\\lib\\site-packages\\sklearn\\svm\\base.py:931: ConvergenceWarning: Liblinear failed to converge, increase the number of iterations.\n",
      "  \"the number of iterations.\", ConvergenceWarning)\n"
     ]
    },
    {
     "name": "stderr",
     "output_type": "stream",
     "text": [
      "C:\\Users\\Personal\\Anaconda3\\lib\\site-packages\\sklearn\\svm\\base.py:931: ConvergenceWarning: Liblinear failed to converge, increase the number of iterations.\n",
      "  \"the number of iterations.\", ConvergenceWarning)\n",
      "C:\\Users\\Personal\\Anaconda3\\lib\\site-packages\\sklearn\\svm\\base.py:931: ConvergenceWarning: Liblinear failed to converge, increase the number of iterations.\n",
      "  \"the number of iterations.\", ConvergenceWarning)\n",
      "C:\\Users\\Personal\\Anaconda3\\lib\\site-packages\\sklearn\\svm\\base.py:931: ConvergenceWarning: Liblinear failed to converge, increase the number of iterations.\n",
      "  \"the number of iterations.\", ConvergenceWarning)\n",
      "C:\\Users\\Personal\\Anaconda3\\lib\\site-packages\\sklearn\\svm\\base.py:931: ConvergenceWarning: Liblinear failed to converge, increase the number of iterations.\n",
      "  \"the number of iterations.\", ConvergenceWarning)\n",
      "C:\\Users\\Personal\\Anaconda3\\lib\\site-packages\\sklearn\\svm\\base.py:931: ConvergenceWarning: Liblinear failed to converge, increase the number of iterations.\n",
      "  \"the number of iterations.\", ConvergenceWarning)\n",
      "C:\\Users\\Personal\\Anaconda3\\lib\\site-packages\\sklearn\\svm\\base.py:931: ConvergenceWarning: Liblinear failed to converge, increase the number of iterations.\n",
      "  \"the number of iterations.\", ConvergenceWarning)\n",
      "C:\\Users\\Personal\\Anaconda3\\lib\\site-packages\\sklearn\\svm\\base.py:931: ConvergenceWarning: Liblinear failed to converge, increase the number of iterations.\n",
      "  \"the number of iterations.\", ConvergenceWarning)\n",
      "C:\\Users\\Personal\\Anaconda3\\lib\\site-packages\\sklearn\\svm\\base.py:931: ConvergenceWarning: Liblinear failed to converge, increase the number of iterations.\n",
      "  \"the number of iterations.\", ConvergenceWarning)\n",
      "C:\\Users\\Personal\\Anaconda3\\lib\\site-packages\\sklearn\\svm\\base.py:931: ConvergenceWarning: Liblinear failed to converge, increase the number of iterations.\n",
      "  \"the number of iterations.\", ConvergenceWarning)\n",
      "C:\\Users\\Personal\\Anaconda3\\lib\\site-packages\\sklearn\\svm\\base.py:931: ConvergenceWarning: Liblinear failed to converge, increase the number of iterations.\n",
      "  \"the number of iterations.\", ConvergenceWarning)\n",
      "C:\\Users\\Personal\\Anaconda3\\lib\\site-packages\\sklearn\\svm\\base.py:931: ConvergenceWarning: Liblinear failed to converge, increase the number of iterations.\n",
      "  \"the number of iterations.\", ConvergenceWarning)\n",
      "C:\\Users\\Personal\\Anaconda3\\lib\\site-packages\\sklearn\\svm\\base.py:931: ConvergenceWarning: Liblinear failed to converge, increase the number of iterations.\n",
      "  \"the number of iterations.\", ConvergenceWarning)\n",
      "C:\\Users\\Personal\\Anaconda3\\lib\\site-packages\\sklearn\\svm\\base.py:931: ConvergenceWarning: Liblinear failed to converge, increase the number of iterations.\n",
      "  \"the number of iterations.\", ConvergenceWarning)\n",
      "C:\\Users\\Personal\\Anaconda3\\lib\\site-packages\\sklearn\\svm\\base.py:931: ConvergenceWarning: Liblinear failed to converge, increase the number of iterations.\n",
      "  \"the number of iterations.\", ConvergenceWarning)\n",
      "C:\\Users\\Personal\\Anaconda3\\lib\\site-packages\\sklearn\\svm\\base.py:931: ConvergenceWarning: Liblinear failed to converge, increase the number of iterations.\n",
      "  \"the number of iterations.\", ConvergenceWarning)\n",
      "C:\\Users\\Personal\\Anaconda3\\lib\\site-packages\\sklearn\\svm\\base.py:931: ConvergenceWarning: Liblinear failed to converge, increase the number of iterations.\n",
      "  \"the number of iterations.\", ConvergenceWarning)\n",
      "C:\\Users\\Personal\\Anaconda3\\lib\\site-packages\\sklearn\\svm\\base.py:931: ConvergenceWarning: Liblinear failed to converge, increase the number of iterations.\n",
      "  \"the number of iterations.\", ConvergenceWarning)\n",
      "C:\\Users\\Personal\\Anaconda3\\lib\\site-packages\\sklearn\\svm\\base.py:931: ConvergenceWarning: Liblinear failed to converge, increase the number of iterations.\n",
      "  \"the number of iterations.\", ConvergenceWarning)\n",
      "C:\\Users\\Personal\\Anaconda3\\lib\\site-packages\\sklearn\\svm\\base.py:931: ConvergenceWarning: Liblinear failed to converge, increase the number of iterations.\n",
      "  \"the number of iterations.\", ConvergenceWarning)\n",
      "C:\\Users\\Personal\\Anaconda3\\lib\\site-packages\\sklearn\\svm\\base.py:931: ConvergenceWarning: Liblinear failed to converge, increase the number of iterations.\n",
      "  \"the number of iterations.\", ConvergenceWarning)\n",
      "C:\\Users\\Personal\\Anaconda3\\lib\\site-packages\\sklearn\\svm\\base.py:931: ConvergenceWarning: Liblinear failed to converge, increase the number of iterations.\n",
      "  \"the number of iterations.\", ConvergenceWarning)\n",
      "C:\\Users\\Personal\\Anaconda3\\lib\\site-packages\\sklearn\\svm\\base.py:931: ConvergenceWarning: Liblinear failed to converge, increase the number of iterations.\n",
      "  \"the number of iterations.\", ConvergenceWarning)\n",
      "C:\\Users\\Personal\\Anaconda3\\lib\\site-packages\\sklearn\\svm\\base.py:931: ConvergenceWarning: Liblinear failed to converge, increase the number of iterations.\n",
      "  \"the number of iterations.\", ConvergenceWarning)\n",
      "C:\\Users\\Personal\\Anaconda3\\lib\\site-packages\\sklearn\\svm\\base.py:931: ConvergenceWarning: Liblinear failed to converge, increase the number of iterations.\n",
      "  \"the number of iterations.\", ConvergenceWarning)\n",
      "C:\\Users\\Personal\\Anaconda3\\lib\\site-packages\\sklearn\\svm\\base.py:931: ConvergenceWarning: Liblinear failed to converge, increase the number of iterations.\n",
      "  \"the number of iterations.\", ConvergenceWarning)\n",
      "C:\\Users\\Personal\\Anaconda3\\lib\\site-packages\\sklearn\\svm\\base.py:931: ConvergenceWarning: Liblinear failed to converge, increase the number of iterations.\n",
      "  \"the number of iterations.\", ConvergenceWarning)\n",
      "C:\\Users\\Personal\\Anaconda3\\lib\\site-packages\\sklearn\\svm\\base.py:931: ConvergenceWarning: Liblinear failed to converge, increase the number of iterations.\n",
      "  \"the number of iterations.\", ConvergenceWarning)\n",
      "C:\\Users\\Personal\\Anaconda3\\lib\\site-packages\\sklearn\\svm\\base.py:931: ConvergenceWarning: Liblinear failed to converge, increase the number of iterations.\n",
      "  \"the number of iterations.\", ConvergenceWarning)\n",
      "C:\\Users\\Personal\\Anaconda3\\lib\\site-packages\\sklearn\\svm\\base.py:931: ConvergenceWarning: Liblinear failed to converge, increase the number of iterations.\n",
      "  \"the number of iterations.\", ConvergenceWarning)\n",
      "C:\\Users\\Personal\\Anaconda3\\lib\\site-packages\\sklearn\\svm\\base.py:931: ConvergenceWarning: Liblinear failed to converge, increase the number of iterations.\n",
      "  \"the number of iterations.\", ConvergenceWarning)\n",
      "C:\\Users\\Personal\\Anaconda3\\lib\\site-packages\\sklearn\\svm\\base.py:931: ConvergenceWarning: Liblinear failed to converge, increase the number of iterations.\n",
      "  \"the number of iterations.\", ConvergenceWarning)\n"
     ]
    },
    {
     "data": {
      "text/plain": [
       "(0.7982062780269058, {'C': 10, 'gamma': 0.01})"
      ]
     },
     "execution_count": 18,
     "metadata": {},
     "output_type": "execute_result"
    }
   ],
   "source": [
    "C_values = [0.01, 0.03, 0.1, 0.3, 1, 3, 10, 30, 100]  \n",
    "gamma_values = [0.01, 0.03, 0.1, 0.3, 1, 3, 10, 30, 100]\n",
    "\n",
    "best_score = 0  \n",
    "best_params = {'C': None, 'gamma': None}\n",
    "\n",
    "for C in C_values:  \n",
    "    for gamma in gamma_values:\n",
    "        \n",
    "        svc3 = svm.LinearSVC(C=C, loss='hinge', max_iter=1000)  \n",
    "        \n",
    "        svc3.fit(data[['Pclass','Sex','Age',]], data['Survived'])  \n",
    "        score=svc3.score(data2[['Pclass','Sex','Age']], data2['Survived'])\n",
    "\n",
    "        if score > best_score:\n",
    "            best_score = score\n",
    "            best_params['C'] = C\n",
    "            best_params['gamma'] = gamma\n",
    "            predict=svc3.predict(data2[['Pclass','Sex','Age']])\n",
    "            best_svc=svc3\n",
    "best_score,best_params"
   ]
  },
  {
   "cell_type": "code",
   "execution_count": 19,
   "metadata": {},
   "outputs": [
    {
     "data": {
      "text/plain": [
       "LinearSVC(C=10, class_weight=None, dual=True, fit_intercept=True,\n",
       "     intercept_scaling=1, loss='hinge', max_iter=1000, multi_class='ovr',\n",
       "     penalty='l2', random_state=None, tol=0.0001, verbose=0)"
      ]
     },
     "execution_count": 19,
     "metadata": {},
     "output_type": "execute_result"
    }
   ],
   "source": [
    "best_svc"
   ]
  },
  {
   "cell_type": "code",
   "execution_count": 20,
   "metadata": {},
   "outputs": [],
   "source": [
    "test_data = test_df.drop(['Name','SibSp','Parch','Ticket','Fare','Cabin','Embarked'], axis=1)"
   ]
  },
  {
   "cell_type": "code",
   "execution_count": 21,
   "metadata": {},
   "outputs": [],
   "source": [
    "test_data['Sex'] = test_data['Sex'].map({'female': 1, 'male': 0})"
   ]
  },
  {
   "cell_type": "code",
   "execution_count": 22,
   "metadata": {},
   "outputs": [
    {
     "data": {
      "text/plain": [
       "PassengerId    1100.500000\n",
       "Pclass            2.265550\n",
       "Sex               0.363636\n",
       "Age              30.272590\n",
       "dtype: float64"
      ]
     },
     "execution_count": 22,
     "metadata": {},
     "output_type": "execute_result"
    }
   ],
   "source": [
    "test_data.mean()"
   ]
  },
  {
   "cell_type": "code",
   "execution_count": 23,
   "metadata": {},
   "outputs": [],
   "source": [
    "test_data=test_data.apply(lambda x: x.fillna(x.mean()), axis=0)"
   ]
  },
  {
   "cell_type": "code",
   "execution_count": 24,
   "metadata": {},
   "outputs": [
    {
     "data": {
      "text/html": [
       "<div>\n",
       "<style scoped>\n",
       "    .dataframe tbody tr th:only-of-type {\n",
       "        vertical-align: middle;\n",
       "    }\n",
       "\n",
       "    .dataframe tbody tr th {\n",
       "        vertical-align: top;\n",
       "    }\n",
       "\n",
       "    .dataframe thead th {\n",
       "        text-align: right;\n",
       "    }\n",
       "</style>\n",
       "<table border=\"1\" class=\"dataframe\">\n",
       "  <thead>\n",
       "    <tr style=\"text-align: right;\">\n",
       "      <th></th>\n",
       "      <th>PassengerId</th>\n",
       "      <th>Pclass</th>\n",
       "      <th>Sex</th>\n",
       "      <th>Age</th>\n",
       "    </tr>\n",
       "  </thead>\n",
       "  <tbody>\n",
       "    <tr>\n",
       "      <th>0</th>\n",
       "      <td>892</td>\n",
       "      <td>3</td>\n",
       "      <td>0</td>\n",
       "      <td>34.50000</td>\n",
       "    </tr>\n",
       "    <tr>\n",
       "      <th>1</th>\n",
       "      <td>893</td>\n",
       "      <td>3</td>\n",
       "      <td>1</td>\n",
       "      <td>47.00000</td>\n",
       "    </tr>\n",
       "    <tr>\n",
       "      <th>2</th>\n",
       "      <td>894</td>\n",
       "      <td>2</td>\n",
       "      <td>0</td>\n",
       "      <td>62.00000</td>\n",
       "    </tr>\n",
       "    <tr>\n",
       "      <th>3</th>\n",
       "      <td>895</td>\n",
       "      <td>3</td>\n",
       "      <td>0</td>\n",
       "      <td>27.00000</td>\n",
       "    </tr>\n",
       "    <tr>\n",
       "      <th>4</th>\n",
       "      <td>896</td>\n",
       "      <td>3</td>\n",
       "      <td>1</td>\n",
       "      <td>22.00000</td>\n",
       "    </tr>\n",
       "    <tr>\n",
       "      <th>5</th>\n",
       "      <td>897</td>\n",
       "      <td>3</td>\n",
       "      <td>0</td>\n",
       "      <td>14.00000</td>\n",
       "    </tr>\n",
       "    <tr>\n",
       "      <th>6</th>\n",
       "      <td>898</td>\n",
       "      <td>3</td>\n",
       "      <td>1</td>\n",
       "      <td>30.00000</td>\n",
       "    </tr>\n",
       "    <tr>\n",
       "      <th>7</th>\n",
       "      <td>899</td>\n",
       "      <td>2</td>\n",
       "      <td>0</td>\n",
       "      <td>26.00000</td>\n",
       "    </tr>\n",
       "    <tr>\n",
       "      <th>8</th>\n",
       "      <td>900</td>\n",
       "      <td>3</td>\n",
       "      <td>1</td>\n",
       "      <td>18.00000</td>\n",
       "    </tr>\n",
       "    <tr>\n",
       "      <th>9</th>\n",
       "      <td>901</td>\n",
       "      <td>3</td>\n",
       "      <td>0</td>\n",
       "      <td>21.00000</td>\n",
       "    </tr>\n",
       "    <tr>\n",
       "      <th>10</th>\n",
       "      <td>902</td>\n",
       "      <td>3</td>\n",
       "      <td>0</td>\n",
       "      <td>30.27259</td>\n",
       "    </tr>\n",
       "    <tr>\n",
       "      <th>11</th>\n",
       "      <td>903</td>\n",
       "      <td>1</td>\n",
       "      <td>0</td>\n",
       "      <td>46.00000</td>\n",
       "    </tr>\n",
       "    <tr>\n",
       "      <th>12</th>\n",
       "      <td>904</td>\n",
       "      <td>1</td>\n",
       "      <td>1</td>\n",
       "      <td>23.00000</td>\n",
       "    </tr>\n",
       "    <tr>\n",
       "      <th>13</th>\n",
       "      <td>905</td>\n",
       "      <td>2</td>\n",
       "      <td>0</td>\n",
       "      <td>63.00000</td>\n",
       "    </tr>\n",
       "    <tr>\n",
       "      <th>14</th>\n",
       "      <td>906</td>\n",
       "      <td>1</td>\n",
       "      <td>1</td>\n",
       "      <td>47.00000</td>\n",
       "    </tr>\n",
       "    <tr>\n",
       "      <th>15</th>\n",
       "      <td>907</td>\n",
       "      <td>2</td>\n",
       "      <td>1</td>\n",
       "      <td>24.00000</td>\n",
       "    </tr>\n",
       "    <tr>\n",
       "      <th>16</th>\n",
       "      <td>908</td>\n",
       "      <td>2</td>\n",
       "      <td>0</td>\n",
       "      <td>35.00000</td>\n",
       "    </tr>\n",
       "    <tr>\n",
       "      <th>17</th>\n",
       "      <td>909</td>\n",
       "      <td>3</td>\n",
       "      <td>0</td>\n",
       "      <td>21.00000</td>\n",
       "    </tr>\n",
       "    <tr>\n",
       "      <th>18</th>\n",
       "      <td>910</td>\n",
       "      <td>3</td>\n",
       "      <td>1</td>\n",
       "      <td>27.00000</td>\n",
       "    </tr>\n",
       "    <tr>\n",
       "      <th>19</th>\n",
       "      <td>911</td>\n",
       "      <td>3</td>\n",
       "      <td>1</td>\n",
       "      <td>45.00000</td>\n",
       "    </tr>\n",
       "  </tbody>\n",
       "</table>\n",
       "</div>"
      ],
      "text/plain": [
       "    PassengerId  Pclass  Sex       Age\n",
       "0           892       3    0  34.50000\n",
       "1           893       3    1  47.00000\n",
       "2           894       2    0  62.00000\n",
       "3           895       3    0  27.00000\n",
       "4           896       3    1  22.00000\n",
       "5           897       3    0  14.00000\n",
       "6           898       3    1  30.00000\n",
       "7           899       2    0  26.00000\n",
       "8           900       3    1  18.00000\n",
       "9           901       3    0  21.00000\n",
       "10          902       3    0  30.27259\n",
       "11          903       1    0  46.00000\n",
       "12          904       1    1  23.00000\n",
       "13          905       2    0  63.00000\n",
       "14          906       1    1  47.00000\n",
       "15          907       2    1  24.00000\n",
       "16          908       2    0  35.00000\n",
       "17          909       3    0  21.00000\n",
       "18          910       3    1  27.00000\n",
       "19          911       3    1  45.00000"
      ]
     },
     "execution_count": 24,
     "metadata": {},
     "output_type": "execute_result"
    }
   ],
   "source": [
    "test_data[:20]"
   ]
  },
  {
   "cell_type": "code",
   "execution_count": 25,
   "metadata": {},
   "outputs": [
    {
     "data": {
      "text/html": [
       "<div>\n",
       "<style scoped>\n",
       "    .dataframe tbody tr th:only-of-type {\n",
       "        vertical-align: middle;\n",
       "    }\n",
       "\n",
       "    .dataframe tbody tr th {\n",
       "        vertical-align: top;\n",
       "    }\n",
       "\n",
       "    .dataframe thead th {\n",
       "        text-align: right;\n",
       "    }\n",
       "</style>\n",
       "<table border=\"1\" class=\"dataframe\">\n",
       "  <thead>\n",
       "    <tr style=\"text-align: right;\">\n",
       "      <th></th>\n",
       "      <th>Survived</th>\n",
       "    </tr>\n",
       "    <tr>\n",
       "      <th>PassengerId</th>\n",
       "      <th></th>\n",
       "    </tr>\n",
       "  </thead>\n",
       "  <tbody>\n",
       "    <tr>\n",
       "      <th>892</th>\n",
       "      <td>0</td>\n",
       "    </tr>\n",
       "    <tr>\n",
       "      <th>893</th>\n",
       "      <td>0</td>\n",
       "    </tr>\n",
       "    <tr>\n",
       "      <th>894</th>\n",
       "      <td>0</td>\n",
       "    </tr>\n",
       "    <tr>\n",
       "      <th>895</th>\n",
       "      <td>0</td>\n",
       "    </tr>\n",
       "    <tr>\n",
       "      <th>896</th>\n",
       "      <td>1</td>\n",
       "    </tr>\n",
       "    <tr>\n",
       "      <th>897</th>\n",
       "      <td>0</td>\n",
       "    </tr>\n",
       "    <tr>\n",
       "      <th>898</th>\n",
       "      <td>1</td>\n",
       "    </tr>\n",
       "    <tr>\n",
       "      <th>899</th>\n",
       "      <td>0</td>\n",
       "    </tr>\n",
       "    <tr>\n",
       "      <th>900</th>\n",
       "      <td>1</td>\n",
       "    </tr>\n",
       "    <tr>\n",
       "      <th>901</th>\n",
       "      <td>0</td>\n",
       "    </tr>\n",
       "  </tbody>\n",
       "</table>\n",
       "</div>"
      ],
      "text/plain": [
       "             Survived\n",
       "PassengerId          \n",
       "892                 0\n",
       "893                 0\n",
       "894                 0\n",
       "895                 0\n",
       "896                 1\n",
       "897                 0\n",
       "898                 1\n",
       "899                 0\n",
       "900                 1\n",
       "901                 0"
      ]
     },
     "execution_count": 25,
     "metadata": {},
     "output_type": "execute_result"
    }
   ],
   "source": [
    "p=best_svc.predict(test_data[['Pclass','Sex','Age']])\n",
    "test_data['Survived']=p\n",
    "test_data2=test_data[['PassengerId','Survived']]\n",
    "test_data2.set_index('PassengerId', inplace=True)\n",
    "test_data2[:10]"
   ]
  },
  {
   "cell_type": "code",
   "execution_count": 30,
   "metadata": {},
   "outputs": [],
   "source": [
    "train_df['Sex'] = train_df['Sex'].map({'female': 1, 'male': 0})"
   ]
  },
  {
   "cell_type": "code",
   "execution_count": 37,
   "metadata": {},
   "outputs": [],
   "source": [
    "train1 = train_df.drop(['Name','SibSp','Parch','Ticket','Fare','Cabin','Embarked'], axis=1)"
   ]
  },
  {
   "cell_type": "code",
   "execution_count": 38,
   "metadata": {},
   "outputs": [
    {
     "data": {
      "text/html": [
       "<div>\n",
       "<style scoped>\n",
       "    .dataframe tbody tr th:only-of-type {\n",
       "        vertical-align: middle;\n",
       "    }\n",
       "\n",
       "    .dataframe tbody tr th {\n",
       "        vertical-align: top;\n",
       "    }\n",
       "\n",
       "    .dataframe thead th {\n",
       "        text-align: right;\n",
       "    }\n",
       "</style>\n",
       "<table border=\"1\" class=\"dataframe\">\n",
       "  <thead>\n",
       "    <tr style=\"text-align: right;\">\n",
       "      <th></th>\n",
       "      <th>PassengerId</th>\n",
       "      <th>Survived</th>\n",
       "      <th>Pclass</th>\n",
       "      <th>Sex</th>\n",
       "      <th>Age</th>\n",
       "    </tr>\n",
       "  </thead>\n",
       "  <tbody>\n",
       "    <tr>\n",
       "      <th>0</th>\n",
       "      <td>1</td>\n",
       "      <td>0</td>\n",
       "      <td>3</td>\n",
       "      <td>0</td>\n",
       "      <td>22.0</td>\n",
       "    </tr>\n",
       "    <tr>\n",
       "      <th>1</th>\n",
       "      <td>2</td>\n",
       "      <td>1</td>\n",
       "      <td>1</td>\n",
       "      <td>1</td>\n",
       "      <td>38.0</td>\n",
       "    </tr>\n",
       "    <tr>\n",
       "      <th>2</th>\n",
       "      <td>3</td>\n",
       "      <td>1</td>\n",
       "      <td>3</td>\n",
       "      <td>1</td>\n",
       "      <td>26.0</td>\n",
       "    </tr>\n",
       "    <tr>\n",
       "      <th>3</th>\n",
       "      <td>4</td>\n",
       "      <td>1</td>\n",
       "      <td>1</td>\n",
       "      <td>1</td>\n",
       "      <td>35.0</td>\n",
       "    </tr>\n",
       "    <tr>\n",
       "      <th>4</th>\n",
       "      <td>5</td>\n",
       "      <td>0</td>\n",
       "      <td>3</td>\n",
       "      <td>0</td>\n",
       "      <td>35.0</td>\n",
       "    </tr>\n",
       "  </tbody>\n",
       "</table>\n",
       "</div>"
      ],
      "text/plain": [
       "   PassengerId  Survived  Pclass  Sex   Age\n",
       "0            1         0       3    0  22.0\n",
       "1            2         1       1    1  38.0\n",
       "2            3         1       3    1  26.0\n",
       "3            4         1       1    1  35.0\n",
       "4            5         0       3    0  35.0"
      ]
     },
     "execution_count": 38,
     "metadata": {},
     "output_type": "execute_result"
    }
   ],
   "source": [
    "train1.head()"
   ]
  },
  {
   "cell_type": "code",
   "execution_count": 39,
   "metadata": {},
   "outputs": [
    {
     "data": {
      "text/plain": [
       "PassengerId    446.000000\n",
       "Survived         0.383838\n",
       "Pclass           2.308642\n",
       "Sex              0.352413\n",
       "Age             29.699118\n",
       "dtype: float64"
      ]
     },
     "execution_count": 39,
     "metadata": {},
     "output_type": "execute_result"
    }
   ],
   "source": [
    "train1.mean()"
   ]
  },
  {
   "cell_type": "code",
   "execution_count": 41,
   "metadata": {},
   "outputs": [],
   "source": [
    "train1=train1.apply(lambda x: x.fillna(x.mean()),axis=0)"
   ]
  },
  {
   "cell_type": "code",
   "execution_count": 43,
   "metadata": {},
   "outputs": [
    {
     "data": {
      "text/html": [
       "<div>\n",
       "<style scoped>\n",
       "    .dataframe tbody tr th:only-of-type {\n",
       "        vertical-align: middle;\n",
       "    }\n",
       "\n",
       "    .dataframe tbody tr th {\n",
       "        vertical-align: top;\n",
       "    }\n",
       "\n",
       "    .dataframe thead th {\n",
       "        text-align: right;\n",
       "    }\n",
       "</style>\n",
       "<table border=\"1\" class=\"dataframe\">\n",
       "  <thead>\n",
       "    <tr style=\"text-align: right;\">\n",
       "      <th></th>\n",
       "      <th>PassengerId</th>\n",
       "      <th>Survived</th>\n",
       "      <th>Pclass</th>\n",
       "      <th>Sex</th>\n",
       "      <th>Age</th>\n",
       "    </tr>\n",
       "  </thead>\n",
       "  <tbody>\n",
       "    <tr>\n",
       "      <th>0</th>\n",
       "      <td>1</td>\n",
       "      <td>0</td>\n",
       "      <td>3</td>\n",
       "      <td>0</td>\n",
       "      <td>22.000000</td>\n",
       "    </tr>\n",
       "    <tr>\n",
       "      <th>1</th>\n",
       "      <td>2</td>\n",
       "      <td>1</td>\n",
       "      <td>1</td>\n",
       "      <td>1</td>\n",
       "      <td>38.000000</td>\n",
       "    </tr>\n",
       "    <tr>\n",
       "      <th>2</th>\n",
       "      <td>3</td>\n",
       "      <td>1</td>\n",
       "      <td>3</td>\n",
       "      <td>1</td>\n",
       "      <td>26.000000</td>\n",
       "    </tr>\n",
       "    <tr>\n",
       "      <th>3</th>\n",
       "      <td>4</td>\n",
       "      <td>1</td>\n",
       "      <td>1</td>\n",
       "      <td>1</td>\n",
       "      <td>35.000000</td>\n",
       "    </tr>\n",
       "    <tr>\n",
       "      <th>4</th>\n",
       "      <td>5</td>\n",
       "      <td>0</td>\n",
       "      <td>3</td>\n",
       "      <td>0</td>\n",
       "      <td>35.000000</td>\n",
       "    </tr>\n",
       "    <tr>\n",
       "      <th>5</th>\n",
       "      <td>6</td>\n",
       "      <td>0</td>\n",
       "      <td>3</td>\n",
       "      <td>0</td>\n",
       "      <td>29.699118</td>\n",
       "    </tr>\n",
       "    <tr>\n",
       "      <th>6</th>\n",
       "      <td>7</td>\n",
       "      <td>0</td>\n",
       "      <td>1</td>\n",
       "      <td>0</td>\n",
       "      <td>54.000000</td>\n",
       "    </tr>\n",
       "    <tr>\n",
       "      <th>7</th>\n",
       "      <td>8</td>\n",
       "      <td>0</td>\n",
       "      <td>3</td>\n",
       "      <td>0</td>\n",
       "      <td>2.000000</td>\n",
       "    </tr>\n",
       "    <tr>\n",
       "      <th>8</th>\n",
       "      <td>9</td>\n",
       "      <td>1</td>\n",
       "      <td>3</td>\n",
       "      <td>1</td>\n",
       "      <td>27.000000</td>\n",
       "    </tr>\n",
       "    <tr>\n",
       "      <th>9</th>\n",
       "      <td>10</td>\n",
       "      <td>1</td>\n",
       "      <td>2</td>\n",
       "      <td>1</td>\n",
       "      <td>14.000000</td>\n",
       "    </tr>\n",
       "  </tbody>\n",
       "</table>\n",
       "</div>"
      ],
      "text/plain": [
       "   PassengerId  Survived  Pclass  Sex        Age\n",
       "0            1         0       3    0  22.000000\n",
       "1            2         1       1    1  38.000000\n",
       "2            3         1       3    1  26.000000\n",
       "3            4         1       1    1  35.000000\n",
       "4            5         0       3    0  35.000000\n",
       "5            6         0       3    0  29.699118\n",
       "6            7         0       1    0  54.000000\n",
       "7            8         0       3    0   2.000000\n",
       "8            9         1       3    1  27.000000\n",
       "9           10         1       2    1  14.000000"
      ]
     },
     "execution_count": 43,
     "metadata": {},
     "output_type": "execute_result"
    }
   ],
   "source": [
    "train1[:10]"
   ]
  },
  {
   "cell_type": "code",
   "execution_count": 44,
   "metadata": {},
   "outputs": [],
   "source": [
    "train2=np.array(train1[['Pclass','Age','Sex']])"
   ]
  },
  {
   "cell_type": "code",
   "execution_count": 45,
   "metadata": {},
   "outputs": [],
   "source": [
    "Y=train2[:,0]\n",
    "X=train2[:,1:]"
   ]
  },
  {
   "cell_type": "code",
   "execution_count": 46,
   "metadata": {},
   "outputs": [],
   "source": [
    "from sklearn.decomposition import PCA\n",
    "pca=PCA(n_components=1)\n",
    "pca.fit(X)\n",
    "P=pca.transform(X)"
   ]
  },
  {
   "cell_type": "code",
   "execution_count": 81,
   "metadata": {},
   "outputs": [
    {
     "data": {
      "text/plain": [
       "array([[0.27117366, 0.47219028, 0.32139862, 0.43449236, 0.43453129,\n",
       "        0.36792055, 0.67328474, 0.01985423, 0.33396459, 0.17060696,\n",
       "        0.04494725, 0.7235097 , 0.24604172, 0.48479517, 0.17060696,\n",
       "        0.68581179, 0.01985423, 0.36792055, 0.38422848, 0.36788163,\n",
       "        0.43453129, 0.42196532, 0.18317293, 0.34656949, 0.09521114,\n",
       "        0.47219028, 0.36792055, 0.23347575, 0.36788163, 0.36792055,\n",
       "        0.49736115, 0.36788163, 0.36788163, 0.8240764 , 0.34656949,\n",
       "        0.52249309, 0.36792055, 0.25860769, 0.22087085, 0.17060696,\n",
       "        0.49732222, 0.33396459, 0.36792055, 0.03238128, 0.23343682,\n",
       "        0.36792055, 0.36792055, 0.36788163, 0.36792055, 0.22087085,\n",
       "        0.08268409, 0.25860769, 0.61041596, 0.35909653, 0.81151043,\n",
       "        0.36792055, 0.25856876, 0.35285248, 0.05751322, 0.13294798,\n",
       "        0.27117366, 0.47219028, 0.560191  , 0.04498618, 0.36792055,\n",
       "        0.36792055, 0.35909653, 0.23347575, 0.20830488, 0.32143755,\n",
       "        0.39683338, 0.19573891, 0.25860769, 0.32143755, 0.39683338,\n",
       "        0.30887158, 0.36792055, 0.36792055, 0.00515205, 0.3716625 ,\n",
       "        0.27117366, 0.35913546, 0.36788163, 0.34656949, 0.20830488,\n",
       "        0.40936042, 0.19577783, 0.36792055, 0.28370071, 0.2963056 ,\n",
       "        0.35913546, 0.24604172, 0.57275697, 0.32143755, 0.7361146 ,\n",
       "        0.36792055, 0.88690626, 0.28373963, 0.42192639, 0.42196532,\n",
       "        0.34653056, 0.36792055, 0.25860769, 0.40939935, 0.45966323,\n",
       "        0.34656949, 0.25856876, 0.36792055, 0.4722292 , 0.36788163,\n",
       "        0.58532295, 0.17688995, 0.27117366, 0.24600279, 0.20830488,\n",
       "        0.25860769, 0.88062327, 0.35913546, 0.2963056 , 0.01981531,\n",
       "        0.25860769, 0.36792055, 0.40311636, 0.40307743, 0.67328474,\n",
       "        0.14551395, 0.36792055, 0.2963056 , 0.36788163, 0.560191  ,\n",
       "        0.40939935, 0.24604172, 0.58528402, 0.35909653, 0.30887158,\n",
       "        0.28373963, 0.23343682, 0.45966323, 0.19577783, 0.2963056 ,\n",
       "        0.36788163, 0.27113473, 0.29626668, 0.23347575, 0.22090978,\n",
       "        0.23347575, 0.33400352, 0.10777711, 0.45338025, 0.52249309,\n",
       "        0.63558683, 0.27113473, 0.6921337 , 0.50364413, 0.36792055,\n",
       "        0.63558683, 0.19573891, 0.37170143, 0.36792055, 0.36792055,\n",
       "        0.54762503, 0.49732222, 0.32143755, 0.2083438 , 0.00728826,\n",
       "        0.10781603, 0.36788163, 0.56015208, 0.36792055, 0.34656949,\n",
       "        0.76124654, 0.04498618, 0.00724934, 0.25860769, 0.69841669,\n",
       "        0.22090978, 0.36792055, 0.62298193, 0.37170143, 0.44709726,\n",
       "        0.36788163, 0.36792055, 0.10781603, 0.00728826, 0.04494725,\n",
       "        0.36792055, 0.36788163, 0.560191  , 0.49736115, 0.44709726,\n",
       "        0.39679445, 0.23347575, 0.23343682, 0.03242021, 0.5475861 ,\n",
       "        0.7235097 , 0.36792055, 0.52249309, 0.36788163, 0.29626668,\n",
       "        0.34656949, 0.36792055, 0.42196532, 0.56647399, 0.22090978,\n",
       "        0.01981531, 0.39683338, 0.32143755, 0.19573891, 0.49736115,\n",
       "        0.2963056 , 0.43449236, 0.27117366, 0.37170143, 0.36792055,\n",
       "        0.38422848, 0.33396459, 0.52249309, 0.39679445, 0.37170143,\n",
       "        0.19577783, 0.33400352, 0.63558683, 0.36792055, 0.4722292 ,\n",
       "        0.27117366, 0.23347575, 0.2523247 , 0.22090978, 0.36788163,\n",
       "        0.43449236, 0.35913546, 0.7361146 , 0.05751322, 0.2963056 ,\n",
       "        0.36788163, 0.54762503, 0.09521114, 0.23347575, 0.40939935,\n",
       "        0.36788163, 0.36788163, 0.35913546, 0.27117366, 0.37170143,\n",
       "        0.54762503, 0.30883265, 0.29626668, 0.45966323, 0.67328474,\n",
       "        0.36792055, 0.35909653, 0.77381252, 0.37170143, 0.50988819,\n",
       "        0.35909653, 0.36788163, 0.3716625 , 0.43449236, 0.62298193,\n",
       "        0.36792055, 0.03242021, 0.6481528 , 0.49736115, 0.36788163,\n",
       "        0.44709726, 0.19577783, 0.30887158, 0.7235097 , 0.43449236,\n",
       "        0.36792055, 0.30887158, 0.50988819, 0.45966323, 0.36788163,\n",
       "        0.78633956, 0.56015208, 0.36792055, 0.08268409, 0.43449236,\n",
       "        0.81151043, 0.34656949, 0.19577783, 0.23347575, 0.36792055,\n",
       "        0.40939935, 0.37170143, 0.27117366, 0.52249309, 0.27113473,\n",
       "        0.32139862, 0.23343682, 0.44709726, 0.29626668, 0.2963056 ,\n",
       "        0.36792055, 0.29002262, 0.01981531, 0.36792055, 0.62298193,\n",
       "        0.36788163, 0.36792055, 0.23347575, 0.36788163, 0.36792055,\n",
       "        0.00628299, 0.36788163, 0.20830488, 0.37170143, 0.3716625 ,\n",
       "        0.29626668, 0.22087085, 0.32139862, 0.34656949, 0.53505906,\n",
       "        0.32139862, 0.29626668, 0.67328474, 0.38422848, 0.49732222,\n",
       "        0.27117366, 0.33400352, 0.3716625 , 0.27113473, 0.36792055,\n",
       "        0.44705833, 0.76124654, 0.44705833, 0.38422848, 0.19573891,\n",
       "        0.36788163, 0.56647399, 0.4722292 , 0.19577783, 0.36788163,\n",
       "        0.36792055, 0.35913546, 0.50988819, 0.560191  , 0.560191  ,\n",
       "        0.01985423, 0.29626668, 0.34656949, 0.30887158, 0.44709726,\n",
       "        0.29626668, 0.49732222, 0.36788163, 0.03242021, 0.52249309,\n",
       "        0.28373963, 0.36792055, 0.18321186, 0.30887158, 0.36792055,\n",
       "        0.34656949, 0.27113473, 0.47219028, 0.36788163, 0.36788163,\n",
       "        0.49736115, 0.35913546, 0.56015208, 0.43453129, 0.36792055,\n",
       "        0.37170143, 0.74864165, 0.36788163, 0.36788163, 0.29626668,\n",
       "        0.30887158, 0.22090978, 0.23347575, 0.27117366, 0.03238128,\n",
       "        0.36788163, 0.27113473, 0.33400352, 0.24604172, 0.23347575,\n",
       "        0.52245416, 0.00724934, 0.39683338, 0.43449236, 0.36792055,\n",
       "        0.22090978, 0.00728826, 0.44705833, 0.36792055, 0.20830488,\n",
       "        0.44709726, 0.25860769, 0.34656949, 0.28370071, 0.29626668,\n",
       "        0.27117366, 0.38422848, 0.57275697, 0.28373963, 0.34653056,\n",
       "        0.48479517, 0.32143755, 0.25856876, 0.34656949, 0.24600279,\n",
       "        0.42196532, 0.63558683, 0.03242021, 0.25860769, 0.36788163,\n",
       "        0.36792055, 0.36792055, 0.40936042, 0.36792055, 0.54762503,\n",
       "        0.36788163, 0.42192639, 0.22087085, 0.37170143, 0.12034308,\n",
       "        0.36792055, 0.25860769, 0.35913546, 0.34653056, 0.22090978,\n",
       "        0.36792055, 0.34653056, 0.23343682, 0.36792055, 0.39683338,\n",
       "        0.34656949, 0.36788163, 0.52245416, 0.2083438 , 0.62302086,\n",
       "        0.17060696, 0.25856876, 0.29626668, 0.79894446, 0.3842674 ,\n",
       "        0.56015208, 0.24604172, 0.30887158, 0.34653056, 0.36792055,\n",
       "        0.04498618, 0.15804099, 0.42196532, 0.05751322, 0.6481528 ,\n",
       "        0.44709726, 0.36792055, 0.37170143, 0.61045489, 0.36792055,\n",
       "        0.35913546, 0.81151043, 0.36788163, 0.62298193, 0.36792055,\n",
       "        0.59788892, 0.42196532, 0.58532295, 0.59788892, 0.36792055,\n",
       "        0.4722292 , 0.36792055, 0.69841669, 0.36792055, 0.00410784,\n",
       "        0.36792055, 0.4722292 , 0.40936042, 0.28370071, 0.27113473,\n",
       "        0.36792055, 0.42196532, 0.35913546, 0.27117366, 0.01981531,\n",
       "        0.10781603, 0.36792055, 0.62302086, 0.78633956, 0.30887158,\n",
       "        0.36788163, 0.43449236, 0.72354863, 0.37170143, 0.10781603,\n",
       "        0.36792055, 0.25860769, 0.68585072, 0.88690626, 0.25860769,\n",
       "        0.36792055, 0.67324582, 0.36792055, 0.30883265, 0.2963056 ,\n",
       "        0.2083438 , 0.25856876, 0.36788163, 0.4596243 , 0.19573891,\n",
       "        0.22090978, 0.40936042, 0.36792055, 0.34656949, 0.32143755,\n",
       "        0.35913546, 0.36792055, 0.44709726, 0.67324582, 0.2963056 ,\n",
       "        0.58532295, 0.42192639, 0.36792055, 0.44705833, 0.39683338,\n",
       "        0.3716625 , 0.27117366, 0.36792055, 0.5475861 , 0.36792055,\n",
       "        0.50364413, 0.62298193, 0.36792055, 0.48479517, 0.28373963,\n",
       "        0.01981531, 0.36792055, 0.2083438 , 0.36788163, 0.3716625 ,\n",
       "        0.08264516, 0.560191  , 0.3716625 , 0.36792055, 0.27113473,\n",
       "        0.44705833, 0.10777711, 0.13290905, 0.39683338, 0.62302086,\n",
       "        0.79894446, 0.23343682, 0.36792055, 0.40939935, 0.09525006,\n",
       "        0.2083438 , 0.33400352, 0.36792055, 0.27117366, 0.27113473,\n",
       "        0.77381252, 0.59784999, 0.36792055, 0.48475625, 0.44705833,\n",
       "        0.36792055, 0.49736115, 0.34656949, 0.36792055, 0.36788163,\n",
       "        0.2963056 , 0.23347575, 0.35909653, 0.36792055, 0.39683338,\n",
       "        0.77381252, 0.66067985, 0.44709726, 0.36788163, 0.19577783,\n",
       "        0.23347575, 0.42192639, 0.48475625, 0.36788163, 0.39683338,\n",
       "        0.30883265, 0.48475625, 0.67328474, 0.44709726, 0.36792055,\n",
       "        0.22087085, 0.58532295, 0.74868057, 0.27117366, 0.36792055,\n",
       "        0.43453129, 0.64811387, 0.58532295, 0.36788163, 0.45966323,\n",
       "        0.44709726, 0.36788163, 0.61045489, 0.36792055, 0.61045489,\n",
       "        0.29626668, 0.36792055, 0.36792055, 0.54762503, 0.43453129,\n",
       "        0.44709726, 0.37170143, 0.33400352, 0.27113473, 0.49732222,\n",
       "        0.48475625, 0.36792055, 0.36788163, 0.36792055, 0.43453129,\n",
       "        0.29626668, 0.42196532, 0.32139862, 0.04494725, 0.32143755,\n",
       "        0.33400352, 0.52249309, 0.24604172, 0.25860769, 0.25860769,\n",
       "        0.76124654, 0.71098266, 0.25856876, 0.32143755, 0.36792055,\n",
       "        1.        , 0.63558683, 0.39683338, 0.36792055, 0.10777711,\n",
       "        0.34653056, 0.39683338, 0.3842674 , 0.50988819, 0.36792055,\n",
       "        0.24604172, 0.29626668, 0.01981531, 0.36792055, 0.00410784,\n",
       "        0.59788892, 0.23347575, 0.69841669, 0.36792055, 0.28370071,\n",
       "        0.36792055, 0.22087085, 0.25860769, 0.36788163, 0.22087085,\n",
       "        0.2963056 , 0.36792055, 0.39679445, 0.28373963, 0.72354863,\n",
       "        0.62302086, 0.49736115, 0.58532295, 0.44709726, 0.24604172,\n",
       "        0.39683338, 0.30887158, 0.36792055, 0.53505906, 0.36788163,\n",
       "        0.49732222, 0.3842674 , 0.87434029, 0.3842674 , 0.36792055,\n",
       "        0.22090978, 0.30258859, 0.22087085, 0.53502013, 0.44709726,\n",
       "        0.36788163, 0.33400352, 0.24604172, 0.17064589, 0.74868057,\n",
       "        0.30887158, 0.17064589, 0.23347575, 0.22090978, 0.18317293,\n",
       "        0.3842674 , 0.04494725, 0.36792055, 0.30887158, 0.74868057,\n",
       "        0.6481528 , 0.54762503, 0.36788163, 0.61045489, 0.52249309,\n",
       "        0.22087085, 0.43453129, 0.22087085, 0.30887158, 0.32143755,\n",
       "        0.48479517, 0.56015208, 0.52249309, 0.27113473, 0.36792055,\n",
       "        0.29626668, 0.36792055, 0.59788892, 0.35913546, 0.6481528 ,\n",
       "        0.23347575, 0.47219028, 0.33396459, 0.36792055, 0.40939935,\n",
       "        0.07007919, 0.2083438 , 0.42196532, 0.62302086, 0.33400352,\n",
       "        0.24604172, 0.3716625 , 0.36788163, 0.30887158, 0.30883265,\n",
       "        0.35909653, 0.13294798, 0.36792055, 0.28373963, 0.28373963,\n",
       "        0.35285248, 0.59784999, 0.43453129, 0.36792055, 0.36792055,\n",
       "        0.36792055, 0.44709726, 0.25856876, 0.2963056 , 0.3842674 ,\n",
       "        0.87434029, 0.19577783, 0.3716625 , 0.23347575, 0.3842674 ,\n",
       "        0.04494725, 0.07011812, 0.40939935, 0.28373963, 0.59784999,\n",
       "        0.00314149, 0.34656949, 0.22090978, 0.42196532, 0.40936042,\n",
       "        0.36792055, 0.50992712, 0.24604172, 0.44705833, 0.19577783,\n",
       "        0.6355479 , 0.36792055, 0.37794549, 0.36792055, 0.39683338,\n",
       "        0.2963056 , 0.59788892, 0.71094373, 0.36792055, 0.67324582,\n",
       "        0.22090978, 0.36792055, 0.05751322, 0.36792055, 0.53502013,\n",
       "        0.15804099, 0.20830488, 0.35913546, 0.36792055, 0.30887158,\n",
       "        0.30887158, 0.22087085, 0.09525006, 0.00728826, 0.57275697,\n",
       "        0.36792055, 0.19577783, 0.36788163, 0.36792055, 0.30887158,\n",
       "        0.48479517, 0.61041596, 0.38422848, 0.37170143, 0.3716625 ,\n",
       "        0.42196532, 0.38422848, 0.13294798, 0.        , 0.33400352,\n",
       "        0.3842674 , 0.48479517, 0.22087085, 0.48479517, 0.40936042,\n",
       "        0.32143755, 0.48479517, 0.43453129, 0.07007919, 0.37798442,\n",
       "        0.36792055, 0.28370071, 0.3842674 , 0.53505906, 0.12038201,\n",
       "        0.64811387, 0.33400352, 0.4722292 , 0.33396459, 0.01985423,\n",
       "        0.36792055, 0.36792055, 0.00728826, 0.36792055, 0.77377359,\n",
       "        0.18317293, 0.00515205, 0.36792055, 0.28373963, 0.22090978,\n",
       "        0.48475625, 0.25860769, 0.36792055, 0.39683338, 0.36792055,\n",
       "        0.24604172, 0.19577783, 0.3716625 , 0.4282483 , 0.2083438 ,\n",
       "        0.52249309, 0.36792055, 0.43453129, 0.34656949, 0.36788163,\n",
       "        0.04498618, 0.92460417, 0.10777711, 0.19573891, 0.5475861 ,\n",
       "        0.22087085, 0.56015208, 0.63558683, 0.29626668, 0.36792055,\n",
       "        0.50992712, 0.25860769, 0.59784999, 0.36788163, 0.2963056 ,\n",
       "        0.52245416, 0.33396459, 0.3842674 , 0.36792055, 0.04498618,\n",
       "        0.32143755, 0.58528402, 0.40939935, 0.58532295, 0.34653056,\n",
       "        0.18317293, 0.24604172, 0.23347575, 0.36792055, 0.69837776,\n",
       "        0.30883265, 0.40939935, 0.27113473, 0.34656949, 0.30887158,\n",
       "        0.48475625, 0.33400352, 0.23343682, 0.36788163, 0.32143755,\n",
       "        0.39683338]])"
      ]
     },
     "execution_count": 81,
     "metadata": {},
     "output_type": "execute_result"
    }
   ],
   "source": [
    "from sklearn.preprocessing import MinMaxScaler\n",
    "scaler = MinMaxScaler()\n",
    "Q=scaler.fit_transform(P)\n",
    "Q1 = np.array(Q)\n",
    "Q1.reshape(1,-1)"
   ]
  },
  {
   "cell_type": "code",
   "execution_count": 56,
   "metadata": {},
   "outputs": [],
   "source": [
    "from sklearn.svm import SVC\n",
    "from sklearn.metrics import accuracy_score"
   ]
  },
  {
   "cell_type": "code",
   "execution_count": 49,
   "metadata": {},
   "outputs": [],
   "source": [
    "def svm_evaluate(classifier, X, Y, N):\n",
    "    errs=[]\n",
    "    for j in range (N) :\n",
    "        XTRAIN, XTEST, YTRAIN, YTEST=train_test_split(X,Y)\n",
    "        classifier.fit(XTRAIN, YTRAIN)\n",
    "        YP=classifier.predict(XTEST)\n",
    "        errs.append(1-accuracy_score(YTEST,YP))\n",
    "    return(np.mean(errs),np.std(errs))"
   ]
  },
  {
   "cell_type": "code",
   "execution_count": 50,
   "metadata": {},
   "outputs": [],
   "source": [
    "LinearSVM=SVC(kernel=\"linear\", gamma=10)"
   ]
  },
  {
   "cell_type": "code",
   "execution_count": 54,
   "metadata": {},
   "outputs": [],
   "source": [
    "LinearSVM=      SVC(kernel=\"linear\", gamma=10)\n",
    "PolynomialSVM = SVC(kernel=\"poly\", degree=3, gamma=10, coef0=3)\n",
    "RBFSVM=         SVC(kernel=\"rbf\", gamma=20)\n",
    "SigmoidSVM=     SVC(kernel=\"sigmoid\", gamma=1, coef0=0)"
   ]
  },
  {
   "cell_type": "code",
   "execution_count": 57,
   "metadata": {},
   "outputs": [
    {
     "name": "stdout",
     "output_type": "stream",
     "text": [
      "Linear Kernel     mean error=0.41646 sd=0.03022\n",
      "Polynomial Kernel mean error=0.40453 sd=0.03040\n",
      "RBF Kernel        mean error=0.40247 sd=0.02868\n",
      "Sigmoid Kernel    mean error=0.43274 sd=0.03465\n"
     ]
    }
   ],
   "source": [
    "print(\"Linear Kernel     mean error=%7.5f sd=%7.5f\" %svm_evaluate(SVC(kernel=\"linear\",gamma=10), Q, Y,100))\n",
    "print(\"Polynomial Kernel mean error=%7.5f sd=%7.5f\" %svm_evaluate(SVC(kernel=\"poly\", degree=3, gamma=10, coef0=3), Q, Y,100))\n",
    "print(\"RBF Kernel        mean error=%7.5f sd=%7.5f\" %svm_evaluate(SVC(kernel=\"rbf\",gamma=20), Q, Y,100))\n",
    "print(\"Sigmoid Kernel    mean error=%7.5f sd=%7.5f\" %svm_evaluate(SVC(kernel=\"sigmoid\", gamma=1, coef0=0), Q, Y,100))"
   ]
  },
  {
   "cell_type": "code",
   "execution_count": 72,
   "metadata": {},
   "outputs": [],
   "source": [
    "def vis_class_contours(clf,X,Y,DX,DY,colors,markers,xlab=\"X\",\n",
    "                                thelevels=[.5,1.5,2.5,3.5],\n",
    "                                ylab=\"Y\",xlim=[-.1, 1.1],ylim=[-.1, 1.1]):\n",
    "    xinterval = X[:, 0].min() - 1, X[:, 0].max() + 1\n",
    "    yinterval = X[:, 1].min() - 1, X[:, 1].max() + 1\n",
    "    xx, yy = np.meshgrid(np.arange(*xinterval, DX),\n",
    "                         np.arange(*yinterval, DY))\n",
    "    Z = clf.predict(np.c_[xx.ravel(), yy.ravel()])\n",
    "    Z = Z.reshape(xx.shape)\n",
    "    \n",
    "    c=plt.contour(xx, yy, Z, alpha=1,levels=thelevels,linewidths=2,colors=\"k\")\n",
    "    c=plt.contourf(xx, yy, Z, alpha=.1)\n",
    "\n",
    "  \n",
    "    nclasses=len(colors)\n",
    "    for i in range(nclasses):\n",
    "        #x,y=zip(*X[Y==i]) \n",
    "        x,y=(X[Y==i].T).tolist() # is equivalent to x,y=zip(*X[Y==i])\n",
    "        plt.scatter(x,y,marker=markers[i],color=colors[i],s=5)\n",
    "\n",
    "    plt.xlabel(xlab,fontsize=14)\n",
    "    plt.ylabel(ylab,fontsize=14)\n",
    "    plt.xlim(xlim)\n",
    "    plt.ylim(ylim)\n",
    "    plt.grid()\n",
    "    fig=plt.gcf()\n",
    "    fig.tight_layout()\n",
    "    fig.set_size_inches(6,6)"
   ]
  },
  {
   "cell_type": "code",
   "execution_count": 82,
   "metadata": {},
   "outputs": [
    {
     "ename": "IndexError",
     "evalue": "index 1 is out of bounds for axis 1 with size 1",
     "output_type": "error",
     "traceback": [
      "\u001b[1;31m---------------------------------------------------------------------------\u001b[0m",
      "\u001b[1;31mIndexError\u001b[0m                                Traceback (most recent call last)",
      "\u001b[1;32m<ipython-input-82-42afb345347b>\u001b[0m in \u001b[0;36m<module>\u001b[1;34m\u001b[0m\n\u001b[0;32m      1\u001b[0m vis_class_contours(LinearSVM, Q1, Y, .01, .01, [\"cyan\",\"magenta\",\"green\"],[\"+\",\"o\",\"d\"],\n\u001b[1;32m----> 2\u001b[1;33m                   xlab=\"PCA 1\", ylab=\"PCA2\")\n\u001b[0m",
      "\u001b[1;32m<ipython-input-72-a7c2ad0904bc>\u001b[0m in \u001b[0;36mvis_class_contours\u001b[1;34m(clf, X, Y, DX, DY, colors, markers, xlab, thelevels, ylab, xlim, ylim)\u001b[0m\n\u001b[0;32m      3\u001b[0m                                 ylab=\"Y\",xlim=[-.1, 1.1],ylim=[-.1, 1.1]):\n\u001b[0;32m      4\u001b[0m     \u001b[0mxinterval\u001b[0m \u001b[1;33m=\u001b[0m \u001b[0mX\u001b[0m\u001b[1;33m[\u001b[0m\u001b[1;33m:\u001b[0m\u001b[1;33m,\u001b[0m \u001b[1;36m0\u001b[0m\u001b[1;33m]\u001b[0m\u001b[1;33m.\u001b[0m\u001b[0mmin\u001b[0m\u001b[1;33m(\u001b[0m\u001b[1;33m)\u001b[0m \u001b[1;33m-\u001b[0m \u001b[1;36m1\u001b[0m\u001b[1;33m,\u001b[0m \u001b[0mX\u001b[0m\u001b[1;33m[\u001b[0m\u001b[1;33m:\u001b[0m\u001b[1;33m,\u001b[0m \u001b[1;36m0\u001b[0m\u001b[1;33m]\u001b[0m\u001b[1;33m.\u001b[0m\u001b[0mmax\u001b[0m\u001b[1;33m(\u001b[0m\u001b[1;33m)\u001b[0m \u001b[1;33m+\u001b[0m \u001b[1;36m1\u001b[0m\u001b[1;33m\u001b[0m\u001b[1;33m\u001b[0m\u001b[0m\n\u001b[1;32m----> 5\u001b[1;33m     \u001b[0myinterval\u001b[0m \u001b[1;33m=\u001b[0m \u001b[0mX\u001b[0m\u001b[1;33m[\u001b[0m\u001b[1;33m:\u001b[0m\u001b[1;33m,\u001b[0m \u001b[1;36m1\u001b[0m\u001b[1;33m]\u001b[0m\u001b[1;33m.\u001b[0m\u001b[0mmin\u001b[0m\u001b[1;33m(\u001b[0m\u001b[1;33m)\u001b[0m \u001b[1;33m-\u001b[0m \u001b[1;36m1\u001b[0m\u001b[1;33m,\u001b[0m \u001b[0mX\u001b[0m\u001b[1;33m[\u001b[0m\u001b[1;33m:\u001b[0m\u001b[1;33m,\u001b[0m \u001b[1;36m1\u001b[0m\u001b[1;33m]\u001b[0m\u001b[1;33m.\u001b[0m\u001b[0mmax\u001b[0m\u001b[1;33m(\u001b[0m\u001b[1;33m)\u001b[0m \u001b[1;33m+\u001b[0m \u001b[1;36m1\u001b[0m\u001b[1;33m\u001b[0m\u001b[1;33m\u001b[0m\u001b[0m\n\u001b[0m\u001b[0;32m      6\u001b[0m     xx, yy = np.meshgrid(np.arange(*xinterval, DX),\n\u001b[0;32m      7\u001b[0m                          np.arange(*yinterval, DY))\n",
      "\u001b[1;31mIndexError\u001b[0m: index 1 is out of bounds for axis 1 with size 1"
     ]
    }
   ],
   "source": [
    "vis_class_contours(LinearSVM, Q1, Y, .01, .01, [\"cyan\",\"magenta\",\"green\"],[\"+\",\"o\",\"d\"],\n",
    "                  xlab=\"PCA 1\", ylab=\"PCA2\")"
   ]
  },
  {
   "cell_type": "code",
   "execution_count": null,
   "metadata": {},
   "outputs": [],
   "source": []
  }
 ],
 "metadata": {
  "kernelspec": {
   "display_name": "Python 3",
   "language": "python",
   "name": "python3"
  },
  "language_info": {
   "codemirror_mode": {
    "name": "ipython",
    "version": 3
   },
   "file_extension": ".py",
   "mimetype": "text/x-python",
   "name": "python",
   "nbconvert_exporter": "python",
   "pygments_lexer": "ipython3",
   "version": "3.7.3"
  }
 },
 "nbformat": 4,
 "nbformat_minor": 2
}
